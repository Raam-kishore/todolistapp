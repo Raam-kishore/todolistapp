{
 "cells": [
  {
   "cell_type": "code",
   "execution_count": null,
   "metadata": {},
   "outputs": [
    {
     "ename": "",
     "evalue": "",
     "output_type": "error",
     "traceback": [
      "\u001b[1;31mRunning cells with 'c:\\Users\\Raamkishore\\AppData\\Local\\Programs\\Python\\Python311\\python.exe' requires ipykernel package.\n",
      "\u001b[1;31mRun the following command to install 'ipykernel' into the Python environment. \n",
      "\u001b[1;31mCommand: 'c:/Users/Raamkishore/AppData/Local/Programs/Python/Python311/python.exe -m pip install ipykernel -U --user --force-reinstall'"
     ]
    }
   ],
   "source": [
    "\n",
    "import tkinter\n",
    "from tkinter import *\n",
    "root=Tk()\n",
    "root.title(\"To do list\")\n",
    "root.geometry(\"400x650+400+1000\")\n",
    "root.resizable(False,False)\n",
    "task_list=[]\n",
    "def addTask () :\n",
    "    task= task_entry.get()\n",
    "    task_entry.delete(0,END)\n",
    "    if task :\n",
    "        with open(\"tasklist.txt\",'a') as taskfile :\n",
    "            taskfile.write(f\"\\n{task}\")\n",
    "            task_list.append(task)\n",
    "            listbox.insert(END,task)\n",
    "def deleteTask() :\n",
    "    task= str(listbox.get(ANCHOR))\n",
    "    if task in task_list :\n",
    "        task_list.remove(task)\n",
    "        with open(\"tasklist.txt\",'w') as taskfie :\n",
    "            for task in task_list :\n",
    "                taskfie.write(task+\"\\n\")\n",
    "        listbox.delete(ANCHOR)\n",
    "\n",
    "\n",
    "def openfile():\n",
    "    try :\n",
    "        global task_list\n",
    "        with open(\"tasklist.txt\",\"r\") as taskfile :\n",
    "            tasks = taskfile.readlines()\n",
    "        for task in tasks :\n",
    "            if task!='\\n' :\n",
    "                task_list.append(task)\n",
    "                listbox.insert(END,task)\n",
    "    except:\n",
    "      file=open('tasklist.txt','w')\n",
    "      file.close()\n",
    "\n",
    "#icon\n",
    "Image_icon=PhotoImage(file=\"GUI/trash.png\")\n",
    "root.iconphoto(False,Image_icon)\n",
    "#bar\n",
    "TopImage=PhotoImage(file=\"GUI/topbar.png\")\n",
    "Label(root,image=TopImage,bg=\"#000000\")\n",
    "Label(root,image=TopImage).pack()\n",
    "noteimage=PhotoImage(file=\"GUI/note.png\")\n",
    "Label(root,image=noteimage,bg=\"#32405b\").place(x=350,y=10)\n",
    "heading=Label(root,text=\"Tasks to do\",font=\"italic 20 bold\",fg=\"white\",bg=\"#FFC0CB\")\n",
    "heading.place(x=100,y=20)\n",
    "#main\n",
    "frame=Frame(root,width=400,height=50,bg=\"white\")\n",
    "frame.place(x=0,y=180)\n",
    "task=StringVar()\n",
    "task_entry=Entry(frame,width=18,font=\"arial 20\",bd=0)\n",
    "task_entry.place(x=10,y=7)\n",
    "button=Button(frame,text=\"ADD \",font=\"arial 20 bold\",width=6,bg=\"#00FF00\",fg=\"#FFFFFF\",command=addTask)\n",
    "button.place(x=300,y=0)\n",
    "#box\n",
    "frame1=Frame(root,bd=3,width=700,height=280,bg=\"#FFC0CB\")\n",
    "frame1.pack(pady=(160,0))\n",
    "listbox=Listbox(frame1,font=('arial',12),width=40,height=16,bg=\"#FFC0CB\",fg=\"white\",cursor=\"hand2\",selectbackground=\"#5a95ff\")\n",
    "listbox.pack(side=LEFT,fill=BOTH,padx=2)\n",
    "scrollbar=Scrollbar(frame1)\n",
    "scrollbar.pack(side=RIGHT,fill=BOTH)\n",
    "listbox.config(yscrollcommand=scrollbar.set)\n",
    "scrollbar.config(command=listbox.yview)\n",
    "#delete\n",
    "Delete_icon=PhotoImage(file=\"GUI/trash.png\")\n",
    "Button(root,image=Delete_icon,bd=0,command=deleteTask).pack(side=BOTTOM,pady=13,)\n",
    "\n",
    "\n",
    "root.mainloop()"
   ]
  }
 ],
 "metadata": {
  "kernelspec": {
   "display_name": "Python 3",
   "language": "python",
   "name": "python3"
  },
  "language_info": {
   "name": "python",
   "version": "3.11.0 (main, Oct 24 2022, 18:26:48) [MSC v.1933 64 bit (AMD64)]"
  },
  "orig_nbformat": 4,
  "vscode": {
   "interpreter": {
    "hash": "3df92000a2ae8fb97fcf8179d67801c6340ae60265bc23bac70687e4d3eba891"
   }
  }
 },
 "nbformat": 4,
 "nbformat_minor": 2
}
